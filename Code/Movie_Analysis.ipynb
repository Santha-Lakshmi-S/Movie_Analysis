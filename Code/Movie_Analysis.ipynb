{
  "nbformat": 4,
  "nbformat_minor": 0,
  "metadata": {
    "colab": {
      "provenance": []
    },
    "kernelspec": {
      "name": "python3",
      "display_name": "Python 3"
    },
    "language_info": {
      "name": "python"
    }
  },
  "cells": [
    {
      "cell_type": "markdown",
      "source": [
        "## Hackathon - Building a Movie Recommendation System\n"
      ],
      "metadata": {
        "id": "sie5tt7xTgpq"
      }
    },
    {
      "cell_type": "markdown",
      "source": [
        "1. Initial Data Preparation\n"
      ],
      "metadata": {
        "id": "G9-1eFdOQ7WL"
      }
    },
    {
      "cell_type": "code",
      "execution_count": null,
      "metadata": {
        "id": "setnJiq3QQgr"
      },
      "outputs": [],
      "source": [
        "import pandas as pd\n",
        "\n",
        "movies_df = pd.read_csv('/content/movies.csv')\n",
        "ratings_df = pd.read_csv('/content/ratings.csv')\n",
        "\n",
        "# Group user ratings based on movieId\n",
        "grouped_ratings = ratings_df.groupby('movieId').agg({'rating': ['count', 'mean']})\n",
        "grouped_ratings.columns = ['rating_count', 'rating_mean']\n",
        "\n",
        "# Merge with movies data\n",
        "merged_df = pd.merge(movies_df, grouped_ratings, on='movieId')\n",
        "\n",
        "# Filter movies with more than 50 user ratings\n",
        "popular_movies_df = merged_df[merged_df['rating_count'] > 50]"
      ]
    },
    {
      "cell_type": "code",
      "source": [
        "movies_df.shape"
      ],
      "metadata": {
        "colab": {
          "base_uri": "https://localhost:8080/"
        },
        "id": "IHK_N1KsRrYm",
        "outputId": "f4a09221-64fc-4639-e3eb-8d91fae33e1c"
      },
      "execution_count": null,
      "outputs": [
        {
          "output_type": "execute_result",
          "data": {
            "text/plain": [
              "(9742, 3)"
            ]
          },
          "metadata": {},
          "execution_count": 43
        }
      ]
    },
    {
      "cell_type": "code",
      "source": [
        "ratings_df.shape"
      ],
      "metadata": {
        "colab": {
          "base_uri": "https://localhost:8080/"
        },
        "id": "tfPFufAKR8ox",
        "outputId": "97c5241d-073b-414b-bd05-2dcab060204d"
      },
      "execution_count": null,
      "outputs": [
        {
          "output_type": "execute_result",
          "data": {
            "text/plain": [
              "(100836, 4)"
            ]
          },
          "metadata": {},
          "execution_count": 44
        }
      ]
    },
    {
      "cell_type": "code",
      "source": [
        "ratings_df.userId.nunique()"
      ],
      "metadata": {
        "colab": {
          "base_uri": "https://localhost:8080/"
        },
        "id": "C1ZOuVQ5SA4I",
        "outputId": "d2664cd0-54c8-4e7c-e13f-adbb33135db4"
      },
      "execution_count": null,
      "outputs": [
        {
          "output_type": "execute_result",
          "data": {
            "text/plain": [
              "610"
            ]
          },
          "metadata": {},
          "execution_count": 45
        }
      ]
    },
    {
      "source": [
        "print(popular_movies_df.loc[popular_movies_df['rating_count'].idxmax()]['title'])"
      ],
      "cell_type": "code",
      "metadata": {
        "colab": {
          "base_uri": "https://localhost:8080/"
        },
        "id": "9QAXXps6SJmi",
        "outputId": "48ffe81d-0c3d-4530-bc69-d9cced35a136"
      },
      "execution_count": null,
      "outputs": [
        {
          "output_type": "stream",
          "name": "stdout",
          "text": [
            "Forrest Gump (1994)\n"
          ]
        }
      ]
    },
    {
      "cell_type": "code",
      "source": [
        "tags_df = pd.read_csv('/content/tags.csv')\n",
        "\n",
        "matrix_id = movies_df[movies_df['title'] == 'Matrix, The (1999)']['movieId'].iloc[0]\n",
        "\n",
        "# Get all tags for the movie\n",
        "matrix_tags = tags_df[tags_df['movieId'] == matrix_id]['tag']\n",
        "\n",
        "print(f\"Tags for The Matrix (1999): {', '.join(matrix_tags)}\")"
      ],
      "metadata": {
        "colab": {
          "base_uri": "https://localhost:8080/"
        },
        "id": "iJfSnmDBSdv4",
        "outputId": "b9a9799b-3c6c-48aa-9fb8-e8aee89f57b6"
      },
      "execution_count": null,
      "outputs": [
        {
          "output_type": "stream",
          "name": "stdout",
          "text": [
            "Tags for The Matrix (1999): martial arts, sci-fi, alternate universe, philosophy, post apocalyptic\n"
          ]
        }
      ]
    },
    {
      "cell_type": "code",
      "source": [
        "terminator_id = movies_df[movies_df['title'] == 'Terminator 2: Judgment Day (1991)']['movieId'].iloc[0]\n",
        "\n",
        "# Get the average rating for the movie\n",
        "terminator_rating = merged_df[merged_df['movieId'] == terminator_id]['rating_mean'].iloc[0]\n",
        "\n",
        "print(f\"Average rating for Terminator 2: Judgment Day (1991): {terminator_rating}\")\n"
      ],
      "metadata": {
        "colab": {
          "base_uri": "https://localhost:8080/"
        },
        "id": "BSeTi8LQSuNp",
        "outputId": "b017226b-debf-40a5-b9b2-03e12a939685"
      },
      "execution_count": null,
      "outputs": [
        {
          "output_type": "stream",
          "name": "stdout",
          "text": [
            "Average rating for Terminator 2: Judgment Day (1991): 3.970982142857143\n"
          ]
        }
      ]
    },
    {
      "cell_type": "code",
      "source": [
        "fight_club_id = movies_df[movies_df['title'] == 'Fight Club (1999)']['movieId'].iloc[0]\n",
        "\n",
        "# Get the ratings for the movie\n",
        "fight_club_ratings = ratings_df[ratings_df['movieId'] == fight_club_id]['rating']\n",
        "\n",
        "print(fight_club_ratings.describe())\n",
        "\n",
        "import matplotlib.pyplot as plt\n",
        "plt.hist(fight_club_ratings, bins=10)\n",
        "plt.xlabel(\"Rating\")\n",
        "plt.ylabel(\"Frequency\")\n",
        "plt.title(\"Distribution of Ratings for Fight Club (1999)\")\n",
        "plt.show()\n"
      ],
      "metadata": {
        "colab": {
          "base_uri": "https://localhost:8080/",
          "height": 628
        },
        "id": "IO0fA7z4TCHQ",
        "outputId": "9378c0a4-7da0-4596-8dab-d4d9476cd31c"
      },
      "execution_count": null,
      "outputs": [
        {
          "output_type": "stream",
          "name": "stdout",
          "text": [
            "count    218.000000\n",
            "mean       4.272936\n",
            "std        0.861384\n",
            "min        0.500000\n",
            "25%        4.000000\n",
            "50%        4.500000\n",
            "75%        5.000000\n",
            "max        5.000000\n",
            "Name: rating, dtype: float64\n"
          ]
        },
        {
          "output_type": "display_data",
          "data": {
            "text/plain": [
              "<Figure size 640x480 with 1 Axes>"
            ],
            "image/png": "[encoded data removed]"
          },
          "metadata": {}
        }
      ]
    },
    {
      "cell_type": "markdown",
      "source": [
        "2. Answering Questions\n"
      ],
      "metadata": {
        "id": "nsAsCBm7Q8Po"
      }
    },
    {
      "cell_type": "markdown",
      "source": [
        "a. Most Popular Movie Based on Average User Ratings\n"
      ],
      "metadata": {
        "id": "L1Acns2MQ_Aa"
      }
    },
    {
      "cell_type": "code",
      "source": [
        "most_popular_movie = popular_movies_df.loc[popular_movies_df['rating_mean'].idxmax()]\n",
        "most_popular_movie_name = most_popular_movie['title']\n",
        "\n",
        "print(f\"Most popular movie based on average user ratings: {most_popular_movie_name}\")"
      ],
      "metadata": {
        "colab": {
          "base_uri": "https://localhost:8080/"
        },
        "id": "XHjKJcz8Qwsv",
        "outputId": "341fd895-ca2a-481a-c05c-4b62c1e47269"
      },
      "execution_count": null,
      "outputs": [
        {
          "output_type": "stream",
          "name": "stdout",
          "text": [
            "Most popular movie based on average user ratings: Shawshank Redemption, The (1994)\n"
          ]
        }
      ]
    },
    {
      "cell_type": "markdown",
      "source": [
        "b. Top 5 Movies Based on Number of User Ratings\n"
      ],
      "metadata": {
        "id": "_VO8yXe2RAoq"
      }
    },
    {
      "cell_type": "code",
      "source": [
        "top_5_movies = popular_movies_df.nlargest(5, 'rating_count')\n",
        "top_5_movie_titles = top_5_movies['title'].tolist()\n",
        "\n",
        "print(f\"Top 5 movies based on number of user ratings: {top_5_movie_titles}\")"
      ],
      "metadata": {
        "colab": {
          "base_uri": "https://localhost:8080/"
        },
        "id": "PD9g-k5uQySn",
        "outputId": "5b23d41d-28b7-474e-daeb-8edeb7178c3f"
      },
      "execution_count": null,
      "outputs": [
        {
          "output_type": "stream",
          "name": "stdout",
          "text": [
            "Top 5 movies based on number of user ratings: ['Forrest Gump (1994)', 'Shawshank Redemption, The (1994)', 'Pulp Fiction (1994)', 'Silence of the Lambs, The (1991)', 'Matrix, The (1999)']\n"
          ]
        }
      ]
    },
    {
      "cell_type": "markdown",
      "source": [
        "c. Third Most Popular Sci-Fi Movie Based on Number of User Ratings\n"
      ],
      "metadata": {
        "id": "6rmbJVBdRCJI"
      }
    },
    {
      "cell_type": "code",
      "source": [
        "sci_fi_movies_df = popular_movies_df[popular_movies_df['genres'].str.contains('Sci-Fi')]\n",
        "\n",
        "# Third most popular Sci-Fi movie\n",
        "third_most_popular_sci_fi = sci_fi_movies_df.nlargest(3, 'rating_count').iloc[2]\n",
        "third_most_popular_sci_fi_title = third_most_popular_sci_fi['title']\n",
        "\n",
        "print(f\"Third most popular Sci-Fi movie based on number of user ratings: {third_most_popular_sci_fi_title}\")"
      ],
      "metadata": {
        "colab": {
          "base_uri": "https://localhost:8080/"
        },
        "id": "64qXDmKeQ3AY",
        "outputId": "66e13b37-6fcd-4fc4-c2e5-b77417f9aa2e"
      },
      "execution_count": null,
      "outputs": [
        {
          "output_type": "stream",
          "name": "stdout",
          "text": [
            "Third most popular Sci-Fi movie based on number of user ratings: Jurassic Park (1993)\n"
          ]
        }
      ]
    },
    {
      "cell_type": "markdown",
      "source": [
        "3. Scraping IMDb Ratings\n"
      ],
      "metadata": {
        "id": "nD-FC5ePRM37"
      }
    },
    {
      "cell_type": "code",
      "source": [
        "import pandas as pd\n",
        "import numpy as np\n",
        "import requests\n",
        "from bs4 import BeautifulSoup\n",
        "from time import sleep\n",
        "from random import randint\n",
        "\n",
        "titles = []\n",
        "years = []\n",
        "time = []\n",
        "imdb_ratings = []\n",
        "metascores = []\n",
        "votes = []\n",
        "us_gross = []\n",
        "\n",
        "headers = {'Accept-Language': 'en-US, en;q=0.5'}\n",
        "\n",
        "pages = np.arange(1, 1001, 50)\n",
        "\n",
        "for page in pages:\n",
        "    url = f'https://www.imdb.com/search/title/?groups=top_1000&start={page}&ref_=adv_nxt'\n",
        "    response = requests.get(url, headers=headers)\n",
        "    soup = BeautifulSoup(response.text, 'html.parser')\n",
        "\n",
        "    movie_divs = soup.find_all('div', class_='lister-item mode-advanced')\n",
        "\n",
        "    sleep(randint(2,10))\n",
        "\n",
        "    for container in movie_divs:\n",
        "        name = container.h3.a.text\n",
        "        titles.append(name)\n",
        "\n",
        "        year = container.h3.find('span', class_='lister-item-year').text\n",
        "        years.append(year)\n",
        "\n",
        "        runtime = container.find('span', class_='runtime').text if container.find('span', class_='runtime') else '-'\n",
        "        time.append(runtime)\n",
        "\n",
        "        imdb = container.strong.text\n",
        "        imdb_ratings.append(float(imdb) if imdb != '-' else np.nan)\n",
        "\n",
        "        metascore = container.find('span', class_='metascore').text if container.find('span', class_='metascore') else '-'\n",
        "        metascores.append(metascore)\n",
        "\n",
        "        nv = container.find_all('span', attrs={'name':'nv'})\n",
        "        vote = nv[0].text if len(nv) > 0 else '-'\n",
        "        votes.append(vote)\n",
        "        gross = nv[1].text if len(nv) > 1 else '-'\n",
        "        us_gross.append(gross)\n",
        "\n",
        "        imdb_id = container.h3.a['href'].split('/')[2] if container.h3.a else '-'\n",
        "        imdb_ids.append(imdb_id)"
      ],
      "metadata": {
        "id": "9KnUza7mZslG"
      },
      "execution_count": null,
      "outputs": []
    },
    {
      "cell_type": "code",
      "source": [
        "movies = pd.DataFrame({\n",
        "    'movie': titles,\n",
        "    'year': years,\n",
        "    'time_minute': time,\n",
        "    'imdb_rating': imdb_ratings,\n",
        "    'metascore': metascores,\n",
        "    'vote': votes,\n",
        "    'gross_earning': us_gross\n",
        "})\n",
        "\n",
        "movies['year'] = movies['year'].astype(str)\n",
        "movies['time_minute'] = movies['time_minute'].astype(str)\n",
        "movies['imdb_rating'] = pd.to_numeric(movies['imdb_rating'], errors='coerce')\n",
        "movies['metascore'] = movies['metascore'].astype(str)\n",
        "movies['vote'] = movies['vote'].astype(str)\n",
        "movies['gross_earning'] = movies['gross_earning'].astype(str)\n",
        "\n",
        "print(movies.head())\n",
        "print(movies.dtypes)"
      ],
      "metadata": {
        "colab": {
          "base_uri": "https://localhost:8080/"
        },
        "id": "WZIaPneea5-2",
        "outputId": "4197e09d-ca7a-4394-bd6c-9f7226af5cc4"
      },
      "execution_count": null,
      "outputs": [
        {
          "output_type": "stream",
          "name": "stdout",
          "text": [
            "Empty DataFrame\n",
            "Columns: [movie, year, time_minute, imdb_rating, metascore, vote, gross_earning]\n",
            "Index: []\n",
            "movie            float64\n",
            "year              object\n",
            "time_minute       object\n",
            "imdb_rating      float64\n",
            "metascore         object\n",
            "vote              object\n",
            "gross_earning     object\n",
            "dtype: object\n"
          ]
        }
      ]
    },
    {
      "cell_type": "code",
      "source": [
        "movies.to_csv('popular_movies_with_imdb_ratings.csv', index=False)"
      ],
      "metadata": {
        "id": "gqvaGZr7ckZ0"
      },
      "execution_count": null,
      "outputs": []
    },
    {
      "cell_type": "code",
      "source": [
        "import pandas as pd\n",
        "\n",
        "popular_movies_df = pd.read_csv('/content/popular_movies_with_imdb_ratings.csv')\n",
        "\n",
        "print(popular_movies_df.describe(include='all'))\n",
        "print(popular_movies_df.head())\n",
        "\n",
        "print(popular_movies_df['imdb_rating'].isna().sum())"
      ],
      "metadata": {
        "colab": {
          "base_uri": "https://localhost:8080/"
        },
        "id": "PO6oiZrUb7cQ",
        "outputId": "0fc4340d-2d5c-40a0-f553-5a73b6dcd231"
      },
      "execution_count": null,
      "outputs": [
        {
          "output_type": "stream",
          "name": "stdout",
          "text": [
            "       movie year time_minute imdb_rating metascore vote gross_earning\n",
            "count      0    0           0           0         0    0             0\n",
            "unique     0    0           0           0         0    0             0\n",
            "top      NaN  NaN         NaN         NaN       NaN  NaN           NaN\n",
            "freq     NaN  NaN         NaN         NaN       NaN  NaN           NaN\n",
            "Empty DataFrame\n",
            "Columns: [movie, year, time_minute, imdb_rating, metascore, vote, gross_earning]\n",
            "Index: []\n",
            "0\n"
          ]
        }
      ]
    }
  ]
}